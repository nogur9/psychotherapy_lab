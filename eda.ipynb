{
 "cells": [
  {
   "cell_type": "code",
   "execution_count": 1,
   "id": "c375420a-b6e1-4a05-b73d-b80be2bc56ef",
   "metadata": {},
   "outputs": [],
   "source": [
    "import  pandas as pd"
   ]
  },
  {
   "cell_type": "code",
   "execution_count": 5,
   "id": "cacf5c36-2bd8-4bcc-acef-176ecd5f4c94",
   "metadata": {},
   "outputs": [],
   "source": [
    "df = pd.read_csv(\"diarization_111.csv\")"
   ]
  },
  {
   "cell_type": "code",
   "execution_count": 8,
   "id": "74e91903-ea3c-43c3-b3c6-2ba1a2f04d72",
   "metadata": {},
   "outputs": [
    {
     "data": {
      "text/plain": [
       "Index(['segment', 'label', 'speaker', 'start', 'end', 'orig_index'], dtype='object')"
      ]
     },
     "execution_count": 8,
     "metadata": {},
     "output_type": "execute_result"
    }
   ],
   "source": [
    "df.columns"
   ]
  },
  {
   "cell_type": "code",
   "execution_count": 9,
   "id": "6e006863-924c-46f9-85cb-07fceb543239",
   "metadata": {},
   "outputs": [
    {
     "data": {
      "text/html": [
       "<div>\n",
       "<style scoped>\n",
       "    .dataframe tbody tr th:only-of-type {\n",
       "        vertical-align: middle;\n",
       "    }\n",
       "\n",
       "    .dataframe tbody tr th {\n",
       "        vertical-align: top;\n",
       "    }\n",
       "\n",
       "    .dataframe thead th {\n",
       "        text-align: right;\n",
       "    }\n",
       "</style>\n",
       "<table border=\"1\" class=\"dataframe\">\n",
       "  <thead>\n",
       "    <tr style=\"text-align: right;\">\n",
       "      <th></th>\n",
       "      <th>segment</th>\n",
       "      <th>start</th>\n",
       "      <th>end</th>\n",
       "    </tr>\n",
       "  </thead>\n",
       "  <tbody>\n",
       "    <tr>\n",
       "      <th>0</th>\n",
       "      <td>[ 00:00:00.030 --&gt;  00:00:02.190]</td>\n",
       "      <td>0.030969</td>\n",
       "      <td>2.283781</td>\n",
       "    </tr>\n",
       "    <tr>\n",
       "      <th>1</th>\n",
       "      <td>[ 00:00:02.376 --&gt;  00:00:03.473]</td>\n",
       "      <td>2.283781</td>\n",
       "      <td>4.089406</td>\n",
       "    </tr>\n",
       "    <tr>\n",
       "      <th>2</th>\n",
       "      <td>[ 00:00:04.705 --&gt;  00:00:05.093]</td>\n",
       "      <td>4.089406</td>\n",
       "      <td>5.498469</td>\n",
       "    </tr>\n",
       "    <tr>\n",
       "      <th>3</th>\n",
       "      <td>[ 00:00:05.903 --&gt;  00:00:07.658]</td>\n",
       "      <td>5.498469</td>\n",
       "      <td>7.751281</td>\n",
       "    </tr>\n",
       "    <tr>\n",
       "      <th>4</th>\n",
       "      <td>[ 00:00:07.844 --&gt;  00:00:12.164]</td>\n",
       "      <td>7.751281</td>\n",
       "      <td>12.324406</td>\n",
       "    </tr>\n",
       "    <tr>\n",
       "      <th>...</th>\n",
       "      <td>...</td>\n",
       "      <td>...</td>\n",
       "      <td>...</td>\n",
       "    </tr>\n",
       "    <tr>\n",
       "      <th>565</th>\n",
       "      <td>[ 00:50:03.882 --&gt;  00:50:04.287]</td>\n",
       "      <td>3003.654406</td>\n",
       "      <td>3004.472844</td>\n",
       "    </tr>\n",
       "    <tr>\n",
       "      <th>566</th>\n",
       "      <td>[ 00:50:04.658 --&gt;  00:50:06.075]</td>\n",
       "      <td>3004.472844</td>\n",
       "      <td>3010.699719</td>\n",
       "    </tr>\n",
       "    <tr>\n",
       "      <th>567</th>\n",
       "      <td>[ 00:50:10.699 --&gt;  00:50:14.192]</td>\n",
       "      <td>3010.699719</td>\n",
       "      <td>3015.863469</td>\n",
       "    </tr>\n",
       "    <tr>\n",
       "      <th>568</th>\n",
       "      <td>[ 00:50:17.534 --&gt;  00:50:18.141]</td>\n",
       "      <td>3015.863469</td>\n",
       "      <td>3018.301906</td>\n",
       "    </tr>\n",
       "    <tr>\n",
       "      <th>569</th>\n",
       "      <td>[ 00:50:18.462 --&gt;  00:50:18.732]</td>\n",
       "      <td>3018.301906</td>\n",
       "      <td>3018.732219</td>\n",
       "    </tr>\n",
       "  </tbody>\n",
       "</table>\n",
       "<p>570 rows × 3 columns</p>\n",
       "</div>"
      ],
      "text/plain": [
       "                               segment        start          end\n",
       "0    [ 00:00:00.030 -->  00:00:02.190]     0.030969     2.283781\n",
       "1    [ 00:00:02.376 -->  00:00:03.473]     2.283781     4.089406\n",
       "2    [ 00:00:04.705 -->  00:00:05.093]     4.089406     5.498469\n",
       "3    [ 00:00:05.903 -->  00:00:07.658]     5.498469     7.751281\n",
       "4    [ 00:00:07.844 -->  00:00:12.164]     7.751281    12.324406\n",
       "..                                 ...          ...          ...\n",
       "565  [ 00:50:03.882 -->  00:50:04.287]  3003.654406  3004.472844\n",
       "566  [ 00:50:04.658 -->  00:50:06.075]  3004.472844  3010.699719\n",
       "567  [ 00:50:10.699 -->  00:50:14.192]  3010.699719  3015.863469\n",
       "568  [ 00:50:17.534 -->  00:50:18.141]  3015.863469  3018.301906\n",
       "569  [ 00:50:18.462 -->  00:50:18.732]  3018.301906  3018.732219\n",
       "\n",
       "[570 rows x 3 columns]"
      ]
     },
     "execution_count": 9,
     "metadata": {},
     "output_type": "execute_result"
    }
   ],
   "source": [
    "df[['start', 'end']]"
   ]
  },
  {
   "cell_type": "code",
   "execution_count": null,
   "id": "158a6ada-edf5-4dc6-8d76-1121aa0c11f2",
   "metadata": {},
   "outputs": [],
   "source": []
  }
 ],
 "metadata": {
  "kernelspec": {
   "display_name": "schneider",
   "language": "python",
   "name": "schneider"
  },
  "language_info": {
   "codemirror_mode": {
    "name": "ipython",
    "version": 3
   },
   "file_extension": ".py",
   "mimetype": "text/x-python",
   "name": "python",
   "nbconvert_exporter": "python",
   "pygments_lexer": "ipython3",
   "version": "3.12.7"
  }
 },
 "nbformat": 4,
 "nbformat_minor": 5
}
